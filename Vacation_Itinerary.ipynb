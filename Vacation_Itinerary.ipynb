{
 "cells": [
  {
   "cell_type": "markdown",
   "metadata": {},
   "source": [
    "# Vacation Itinerary\n",
    "UC Berkeley Extension Data Analytics Boot Camp Module 6 Challenge - Part 3\n",
    "\n",
    "## Part 3 Instructions\n",
    "#### Create a Travel Itinerary with a Corresponding Map\n"
   ]
  },
  {
   "cell_type": "code",
   "execution_count": 1,
   "metadata": {},
   "outputs": [],
   "source": [
    "# Import dependencies\n",
    "\n",
    "import pandas as pd\n",
    "import requests\n",
    "import gmaps\n",
    "from config import g_key"
   ]
  },
  {
   "cell_type": "code",
   "execution_count": 2,
   "metadata": {},
   "outputs": [],
   "source": [
    "# Configure gmaps\n",
    "gmaps.configure(api_key=g_key)"
   ]
  },
  {
   "cell_type": "code",
   "execution_count": 3,
   "metadata": {},
   "outputs": [],
   "source": [
    "# Import the data into a dataframe\n",
    "\n",
    "vacation_df = pd.read_csv(\"data/WeatherPy_Vacation.csv\")"
   ]
  },
  {
   "cell_type": "code",
   "execution_count": 4,
   "metadata": {},
   "outputs": [
    {
     "data": {
      "application/vnd.jupyter.widget-view+json": {
       "model_id": "141da7adf2d44ebbb5b7542ea587c6cd",
       "version_major": 2,
       "version_minor": 0
      },
      "text/plain": [
       "Figure(layout=FigureLayout(height='420px'))"
      ]
     },
     "metadata": {},
     "output_type": "display_data"
    }
   ],
   "source": [
    "info_box_template = \"\"\"\n",
    "<dl>\n",
    "<dt>Hotel Name</dt><dd>{Hotel Name}</dd>\n",
    "<dt>City</dt><dd>{City}</dd>\n",
    "<dt>Country</dt><dd>{Country}</dd>\n",
    "<dt>Max Temp</dt><dd>{Max Temp} °F</dd>\n",
    "</dl>\n",
    "\"\"\"\n",
    "\n",
    "hotel_info = [info_box_template.format(**row) for index, row in vacation_df.iterrows()]\n",
    "\n",
    "locations = vacation_df[[\"Lat\",\"Lng\"]]\n",
    "\n",
    "marker_layer = gmaps.marker_layer(locations, info_box_content=hotel_info)\n",
    "\n",
    "fig = gmaps.figure(center=(30.0, 31.0), zoom_level=1.8)\n",
    "fig.add_layer(marker_layer)\n",
    "\n",
    "fig"
   ]
  },
  {
   "cell_type": "code",
   "execution_count": 5,
   "metadata": {},
   "outputs": [],
   "source": [
    "# Select four cities:\n",
    "# Santa Luzia, Arraial Do Cabo, Santa Isabel , and Ilhabela\n",
    "\n",
    "vacation_start = vacation_df.loc[vacation_df[\"City\"] ==\"Santa Luzia\"]\n",
    "vacation_end = vacation_df.loc[vacation_df[\"City\"]  == \"Arraial Do Cabo\"]\n",
    "vacation_first_stop = vacation_df.loc[vacation_df[\"City\"]  == \"Santa Isabel\"]\n",
    "vacation_second_stop = vacation_df.loc[vacation_df[\"City\"] == \"Ilhabela\"]\n"
   ]
  },
  {
   "cell_type": "code",
   "execution_count": 6,
   "metadata": {},
   "outputs": [
    {
     "name": "stdout",
     "output_type": "stream",
     "text": [
      "(-19.77, -43.85)\n",
      "(-22.97, -42.03)\n",
      "(-23.32, -46.22)\n",
      "(-23.78, -45.36)\n"
     ]
    }
   ],
   "source": [
    "start = vacation_start[\"Lat\"].values[0],vacation_start[\"Lng\"].values[0]\n",
    "end = vacation_end[\"Lat\"].values[0],vacation_end[\"Lng\"].values[0]\n",
    "first_stop = vacation_first_stop[\"Lat\"].values[0],vacation_first_stop[\"Lng\"].values[0]\n",
    "second_stop = vacation_second_stop[\"Lat\"].values[0],vacation_second_stop[\"Lng\"].values[0]\n",
    "print(start)\n",
    "print(end)\n",
    "print(first_stop)\n",
    "print(second_stop)"
   ]
  },
  {
   "cell_type": "code",
   "execution_count": 7,
   "metadata": {},
   "outputs": [
    {
     "data": {
      "application/vnd.jupyter.widget-view+json": {
       "model_id": "a60ec336c39041368f341e1c19601452",
       "version_major": 2,
       "version_minor": 0
      },
      "text/plain": [
       "Figure(layout=FigureLayout(height='420px'))"
      ]
     },
     "metadata": {},
     "output_type": "display_data"
    }
   ],
   "source": [
    "fig = gmaps.figure()\n",
    "\n",
    "vacation_itin = gmaps.directions_layer(start,end,waypoints=[first_stop,second_stop],travel_mode = \"DRIVING\")\n",
    "\n",
    "fig.add_layer(vacation_itin)\n",
    "\n",
    "fig"
   ]
  },
  {
   "cell_type": "code",
   "execution_count": 8,
   "metadata": {},
   "outputs": [],
   "source": [
    "# Add info box markup to each point\n",
    "\n",
    "# Add desired info into a new DF \n",
    "\n",
    "itin_df = pd.concat([vacation_start,vacation_end,vacation_first_stop,vacation_second_stop])"
   ]
  },
  {
   "cell_type": "code",
   "execution_count": 11,
   "metadata": {},
   "outputs": [
    {
     "data": {
      "application/vnd.jupyter.widget-view+json": {
       "model_id": "27027617e2024455bcd9458ac3a73fbf",
       "version_major": 2,
       "version_minor": 0
      },
      "text/plain": [
       "Figure(layout=FigureLayout(height='420px'))"
      ]
     },
     "metadata": {},
     "output_type": "display_data"
    }
   ],
   "source": [
    "\n",
    "info_box_template = \"\"\"\n",
    "<dl>\n",
    "<dt>Hotel Name</dt><dd>{Hotel Name}</dd>\n",
    "<dt>City</dt><dd>{City}</dd>\n",
    "<dt>Country</dt><dd>{Country}</dd>\n",
    "<dt>Max Temp</dt><dd>{Max Temp} °F</dd>\n",
    "<dt>Current Description</dt><dd>{Current Description}</dd>\n",
    "</dl>\n",
    "\"\"\"\n",
    "\n",
    "hotel_info = [info_box_template.format(**row) for index, row in itin_df.iterrows()]\n",
    "\n",
    "locations = itin_df[[\"Lat\",\"Lng\"]]\n",
    "\n",
    "marker_layer = gmaps.marker_layer(locations, info_box_content=hotel_info)\n",
    "\n",
    "fig = gmaps.figure()\n",
    "fig.add_layer(marker_layer)\n",
    "\n",
    "fig"
   ]
  },
  {
   "cell_type": "code",
   "execution_count": null,
   "metadata": {},
   "outputs": [],
   "source": []
  },
  {
   "cell_type": "code",
   "execution_count": null,
   "metadata": {},
   "outputs": [],
   "source": []
  }
 ],
 "metadata": {
  "kernelspec": {
   "display_name": "Python 3",
   "language": "python",
   "name": "python3"
  },
  "language_info": {
   "codemirror_mode": {
    "name": "ipython",
    "version": 3
   },
   "file_extension": ".py",
   "mimetype": "text/x-python",
   "name": "python",
   "nbconvert_exporter": "python",
   "pygments_lexer": "ipython3",
   "version": "3.7.7"
  }
 },
 "nbformat": 4,
 "nbformat_minor": 4
}
