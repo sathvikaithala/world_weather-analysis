{
 "cells": [
  {
   "cell_type": "markdown",
   "metadata": {},
   "source": [
    "# Vacation Search\n",
    "UC Berkeley Extension Data Analytics Boot Camp Module 6 Challenge - Part 2\n",
    "\n",
    "## Part 2 Instructions\n",
    "#### Have Customers Narrow Their Travel Searches Based on Temperature and Precipitation"
   ]
  },
  {
   "cell_type": "markdown",
   "metadata": {},
   "source": [
    "### Import the Data\n",
    "#### Use the CSV file created in Part 1\n"
   ]
  },
  {
   "cell_type": "code",
   "execution_count": 57,
   "metadata": {},
   "outputs": [],
   "source": [
    "# Import the dependencies.\n",
    "import pandas as pd\n",
    "import gmaps\n",
    "import requests\n",
    "# Import the API key.\n",
    "from config import g_key"
   ]
  },
  {
   "cell_type": "code",
   "execution_count": 58,
   "metadata": {},
   "outputs": [],
   "source": [
    "# Store the CSV you saved created in part one into a DataFrame.\n",
    "city_data_df = pd.read_csv(\"data/WeatherPy_Database.csv\")\n"
   ]
  },
  {
   "cell_type": "markdown",
   "metadata": {},
   "source": [
    "### Filter the DataFrame for minimum and maximum temperature preferences, and if the rain or snow accumulation is 0 inches or not using conditional statements. Do the following:\n",
    "- Prompt the customer for the minimum temperature preference.\n",
    "- Prompt the customer for the maximum temperature preference.\n",
    "- Prompt the customer to answer if he or she would like it to be raining or not, using input(\"Do you want it to be raining? (yes/no) \").\n",
    "- Prompt the customer to answer if he or she would like it to be snowing or not, using input(\"Do you want it to be snowing? (yes/no) \")."
   ]
  },
  {
   "cell_type": "code",
   "execution_count": 59,
   "metadata": {},
   "outputs": [],
   "source": [
    "# configure gmaps\n",
    "gmaps.configure(api_key=g_key)"
   ]
  },
  {
   "cell_type": "code",
   "execution_count": 62,
   "metadata": {},
   "outputs": [
    {
     "name": "stdout",
     "output_type": "stream",
     "text": [
      "What is the minimum temperature you would like for your vacation? 60\n",
      "What is the maximum temperature you would like for your vacation? 75\n"
     ]
    }
   ],
   "source": [
    "# Prompt for Max Temperatures:\n",
    "\n",
    "min_temp = float(input(\"What is the minimum temperature you would like for your vacation? \"))\n",
    "max_temp = float(input(\"What is the maximum temperature you would like for your vacation? \"))"
   ]
  },
  {
   "cell_type": "code",
   "execution_count": 63,
   "metadata": {},
   "outputs": [
    {
     "name": "stdout",
     "output_type": "stream",
     "text": [
      "Do you want it to be raining? (yes/no) yes\n",
      "Do you want it to be snowing? (yes/no) no\n"
     ]
    }
   ],
   "source": [
    "# Prompt for Rain & Snow:\n",
    "\n",
    "rain = input(\"Do you want it to be raining? (yes/no) \")\n",
    "snow = input(\"Do you want it to be snowing? (yes/no) \")"
   ]
  },
  {
   "cell_type": "code",
   "execution_count": 67,
   "metadata": {},
   "outputs": [],
   "source": [
    "# Filter the dataframe based on user inputs: 4 combinations of rain & snow needed\n",
    "\n",
    "if rain==\"no\" and snow==\"no\":\n",
    "    filtered_cities_df = city_data_df.loc[(city_data_df[\"Max Temp\"]<= max_temp) & \n",
    "                                          (city_data_df[\"Max Temp\"]>= min_temp) &\n",
    "                                          (city_data_df[\"Rain (in)\"]==0) &\n",
    "                                          (city_data_df[\"Snow (in)\"]==0)]\n",
    "    \n",
    "elif rain==\"yes\" and snow==\"no\":\n",
    "    filtered_cities_df = city_data_df.loc[(city_data_df[\"Max Temp\"]<= max_temp) & \n",
    "                                          (city_data_df[\"Max Temp\"]>= min_temp) &\n",
    "                                          (city_data_df[\"Rain (in)\"]>=0) &\n",
    "                                          (city_data_df[\"Snow (in)\"]==0)]    \n",
    "    \n",
    "elif rain==\"no\" and snow==\"yes\":\n",
    "    filtered_cities_df = city_data_df.loc[(city_data_df[\"Max Temp\"]<= max_temp) & \n",
    "                                          (city_data_df[\"Max Temp\"]>= min_temp) &\n",
    "                                          (city_data_df[\"Rain (in)\"]==0) &\n",
    "                                          (city_data_df[\"Snow (in)\"]>=0)]     \n",
    "    \n",
    "elif rain==\"yes\" and snow==\"yes\":\n",
    "    filtered_cities_df = city_data_df.loc[(city_data_df[\"Max Temp\"]<= max_temp) & \n",
    "                                          (city_data_df[\"Max Temp\"]>= min_temp) &\n",
    "                                          (city_data_df[\"Rain (in)\"]>=0) &\n",
    "                                          (city_data_df[\"Snow (in)\"]>=0)] \n",
    "    \n",
    "filtered_cities_df = filtered_cities_df.dropna()\n"
   ]
  },
  {
   "cell_type": "markdown",
   "metadata": {},
   "source": [
    "### Add the cities to a marker layer map with a pop-up marker for each city that includes:\n",
    "- Hotel name\n",
    "- City\n",
    "- Country\n",
    "- Current weather description with the maximum temperature"
   ]
  },
  {
   "cell_type": "code",
   "execution_count": 68,
   "metadata": {},
   "outputs": [
    {
     "data": {
      "text/html": [
       "<div>\n",
       "<style scoped>\n",
       "    .dataframe tbody tr th:only-of-type {\n",
       "        vertical-align: middle;\n",
       "    }\n",
       "\n",
       "    .dataframe tbody tr th {\n",
       "        vertical-align: top;\n",
       "    }\n",
       "\n",
       "    .dataframe thead th {\n",
       "        text-align: right;\n",
       "    }\n",
       "</style>\n",
       "<table border=\"1\" class=\"dataframe\">\n",
       "  <thead>\n",
       "    <tr style=\"text-align: right;\">\n",
       "      <th></th>\n",
       "      <th>City</th>\n",
       "      <th>Country</th>\n",
       "      <th>Current Description</th>\n",
       "      <th>Max Temp</th>\n",
       "      <th>Lat</th>\n",
       "      <th>Lng</th>\n",
       "      <th>Hotel Name</th>\n",
       "    </tr>\n",
       "  </thead>\n",
       "  <tbody>\n",
       "    <tr>\n",
       "      <th>6</th>\n",
       "      <td>Hailin</td>\n",
       "      <td>CN</td>\n",
       "      <td>clear sky</td>\n",
       "      <td>61.43</td>\n",
       "      <td>44.58</td>\n",
       "      <td>129.42</td>\n",
       "      <td></td>\n",
       "    </tr>\n",
       "    <tr>\n",
       "      <th>7</th>\n",
       "      <td>Xichang</td>\n",
       "      <td>CN</td>\n",
       "      <td>light rain</td>\n",
       "      <td>72.68</td>\n",
       "      <td>27.90</td>\n",
       "      <td>102.26</td>\n",
       "      <td></td>\n",
       "    </tr>\n",
       "    <tr>\n",
       "      <th>8</th>\n",
       "      <td>Cape Town</td>\n",
       "      <td>ZA</td>\n",
       "      <td>clear sky</td>\n",
       "      <td>71.60</td>\n",
       "      <td>-33.93</td>\n",
       "      <td>18.42</td>\n",
       "      <td></td>\n",
       "    </tr>\n",
       "    <tr>\n",
       "      <th>9</th>\n",
       "      <td>Carnarvon</td>\n",
       "      <td>AU</td>\n",
       "      <td>clear sky</td>\n",
       "      <td>64.40</td>\n",
       "      <td>-24.87</td>\n",
       "      <td>113.63</td>\n",
       "      <td></td>\n",
       "    </tr>\n",
       "    <tr>\n",
       "      <th>11</th>\n",
       "      <td>Rikitea</td>\n",
       "      <td>PF</td>\n",
       "      <td>clear sky</td>\n",
       "      <td>74.98</td>\n",
       "      <td>-23.12</td>\n",
       "      <td>-134.97</td>\n",
       "      <td></td>\n",
       "    </tr>\n",
       "  </tbody>\n",
       "</table>\n",
       "</div>"
      ],
      "text/plain": [
       "         City Country Current Description  Max Temp    Lat     Lng Hotel Name\n",
       "6      Hailin      CN           clear sky     61.43  44.58  129.42           \n",
       "7     Xichang      CN          light rain     72.68  27.90  102.26           \n",
       "8   Cape Town      ZA           clear sky     71.60 -33.93   18.42           \n",
       "9   Carnarvon      AU           clear sky     64.40 -24.87  113.63           \n",
       "11    Rikitea      PF           clear sky     74.98 -23.12 -134.97           "
      ]
     },
     "execution_count": 68,
     "metadata": {},
     "output_type": "execute_result"
    }
   ],
   "source": [
    "# create a hotel dataframe that copies over data from the filtered df. Lat and Lng required in order to use gmaps\n",
    "hotel_df = filtered_cities_df[[\"City\",\"Country\",\"Current Description\",\"Max Temp\",\"Lat\",\"Lng\"]].copy()\n",
    "\n",
    "# add hotel name column\n",
    "hotel_df[\"Hotel Name\"] = \"\"\n",
    "hotel_df.head()"
   ]
  },
  {
   "cell_type": "code",
   "execution_count": 69,
   "metadata": {},
   "outputs": [],
   "source": [
    "# set parameters:\n",
    "\n",
    "params = {\n",
    "    'radius': 5000,\n",
    "    'type': 'lodging',\n",
    "    'key': g_key\n",
    "}"
   ]
  },
  {
   "cell_type": "code",
   "execution_count": 70,
   "metadata": {},
   "outputs": [
    {
     "name": "stdout",
     "output_type": "stream",
     "text": [
      "Hotel Not Found -- skipping\n",
      "Hotel Not Found -- skipping\n",
      "Hotel Not Found -- skipping\n",
      "Hotel Not Found -- skipping\n",
      "Hotel Not Found -- skipping\n",
      "Hotel Not Found -- skipping\n",
      "Hotel Not Found -- skipping\n",
      "Hotel Not Found -- skipping\n",
      "Hotel Not Found -- skipping\n",
      "Hotel Not Found -- skipping\n",
      "Hotel Not Found -- skipping\n"
     ]
    }
   ],
   "source": [
    "# Iterate through list\n",
    "for index, row in hotel_df.iterrows():\n",
    "    lat = row[\"Lat\"]\n",
    "    lng = row[\"Lng\"]\n",
    "    params[\"location\"] = f\"{lat},{lng}\"\n",
    "    \n",
    "    url_base = \"https://maps.googleapis.com/maps/api/place/nearbysearch/json\"\n",
    "    \n",
    "    hotels = requests.get(url_base, params = params).json()\n",
    "    \n",
    "    try:\n",
    "        hotel_df.loc[index,\"Hotel Name\"] = hotels[\"results\"][0][\"name\"]\n",
    "        \n",
    "    except IndexError:\n",
    "        print(f\"Hotel Not Found -- skipping\")\n",
    "\n",
    "    "
   ]
  },
  {
   "cell_type": "code",
   "execution_count": 72,
   "metadata": {},
   "outputs": [],
   "source": [
    "# Save and upload the new DataFrame as WeatherPy_vacation.csv.\n",
    "\n",
    "output_data_file = \"data/WeatherPy_Vacation.csv\"\n",
    "hotel_df.to_csv(output_data_file, index_label = \"City_ID\")"
   ]
  },
  {
   "cell_type": "markdown",
   "metadata": {},
   "source": [
    "### Marker Layer Map"
   ]
  },
  {
   "cell_type": "code",
   "execution_count": 73,
   "metadata": {},
   "outputs": [],
   "source": [
    "# load WeatherPy_Vacation file into vacation_df\n",
    "\n",
    "vacation_df = pd.read_csv(\"data/WeatherPy_Vacation.csv\")"
   ]
  },
  {
   "cell_type": "code",
   "execution_count": 74,
   "metadata": {},
   "outputs": [
    {
     "data": {
      "application/vnd.jupyter.widget-view+json": {
       "model_id": "2c06fe3052bf461abbd1729f81b1454b",
       "version_major": 2,
       "version_minor": 0
      },
      "text/plain": [
       "Figure(layout=FigureLayout(height='420px'))"
      ]
     },
     "metadata": {},
     "output_type": "display_data"
    }
   ],
   "source": [
    "# add hotel markup to map (copied from VacationPy):\n",
    "\n",
    "info_box_template = \"\"\"\n",
    "<dl>\n",
    "<dt>Hotel Name</dt><dd>{Hotel Name}</dd>\n",
    "<dt>City</dt><dd>{City}</dd>\n",
    "<dt>Country</dt><dd>{Country}</dd>\n",
    "<dt>Max Temp</dt><dd>{Max Temp} °F</dd>\n",
    "</dl>\n",
    "\"\"\"\n",
    "\n",
    "hotel_info = [info_box_template.format(**row) for index, row in vacation_df.iterrows()]\n",
    "\n",
    "locations = vacation_df[[\"Lat\",\"Lng\"]]\n",
    "\n",
    "marker_layer = gmaps.marker_layer(locations, info_box_content=hotel_info)\n",
    "\n",
    "fig = gmaps.figure(center=(30.0, 31.0), zoom_level=1.8)\n",
    "fig.add_layer(marker_layer)\n",
    "\n",
    "fig"
   ]
  },
  {
   "cell_type": "code",
   "execution_count": null,
   "metadata": {},
   "outputs": [],
   "source": []
  }
 ],
 "metadata": {
  "kernelspec": {
   "display_name": "Python 3",
   "language": "python",
   "name": "python3"
  },
  "language_info": {
   "codemirror_mode": {
    "name": "ipython",
    "version": 3
   },
   "file_extension": ".py",
   "mimetype": "text/x-python",
   "name": "python",
   "nbconvert_exporter": "python",
   "pygments_lexer": "ipython3",
   "version": "3.7.7"
  }
 },
 "nbformat": 4,
 "nbformat_minor": 4
}
